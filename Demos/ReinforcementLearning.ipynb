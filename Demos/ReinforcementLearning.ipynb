{
  "cells": [
    {
      "cell_type": "markdown",
      "metadata": {
        "id": "XWxuZMIToTAx"
      },
      "source": [
        "## Reinforcement Learning : Maze Solver using Q-Learning"
      ]
    },
    {
      "cell_type": "code",
      "execution_count": 5,
      "metadata": {
        "id": "LDjbvxjEgD52"
      },
      "outputs": [],
      "source": [
        "import numpy as np\n",
        "import matplotlib.pyplot as plt"
      ]
    },
    {
      "cell_type": "markdown",
      "metadata": {
        "id": "7Ekv1DVhpKdD"
      },
      "source": [
        "The maze is represented as a 2D grid:\n",
        "- `0` (empty), `1` (obstacle), and `2` (goal).\n",
        "- The agent starts at the top-left corner (`0, 0`).\n",
        "- Actions (`UP`, `DOWN`, `LEFT`, `RIGHT`) allow the agent to move through the grid."
      ]
    },
    {
      "cell_type": "code",
      "execution_count": 6,
      "metadata": {
        "id": "3s2bP3ntjhJ1"
      },
      "outputs": [],
      "source": [
        "# Maze grid: 0 = empty, 1 = obstacle, 2 = goal\n",
        "MAZE = np.array([\n",
        "    [0, 1, 0, 0, 0],\n",
        "    [0, 1, 0, 1, 0],\n",
        "    [0, 0, 0, 1, 0],\n",
        "    [1, 1, 0, 1, 0],\n",
        "    [0, 0, 0, 2, 0],\n",
        "])\n",
        "\n",
        "# Maze dimensions\n",
        "ROWS, COLS = MAZE.shape\n",
        "\n",
        "# Define actions: Up, Down, Left, Right\n",
        "ACTIONS = [\"UP\", \"DOWN\", \"LEFT\", \"RIGHT\"]\n",
        "ACTION_TO_DELTA = {\n",
        "    \"UP\": (-1, 0),\n",
        "    \"DOWN\": (1, 0),\n",
        "    \"LEFT\": (0, -1),\n",
        "    \"RIGHT\": (0, 1),\n",
        "}\n",
        "\n",
        "# Start position\n",
        "START_POS = (0, 0)\n",
        "\n",
        "# Check if a position is valid\n",
        "def is_valid(pos):\n",
        "    r, c = pos\n",
        "    return 0 <= r < ROWS and 0 <= c < COLS and MAZE[r, c] != 1\n"
      ]
    },
    {
      "cell_type": "code",
      "execution_count": 7,
      "metadata": {
        "id": "4atdgKCCjkIQ"
      },
      "outputs": [],
      "source": [
        "# Reset environment\n",
        "def reset():\n",
        "    return START_POS\n",
        "\n",
        "# Take a step in the environment\n",
        "def step(pos, action):\n",
        "    delta = ACTION_TO_DELTA[action]\n",
        "    new_pos = (pos[0] + delta[0], pos[1] + delta[1])\n",
        "\n",
        "    if not is_valid(new_pos):\n",
        "        new_pos = pos  # Invalid move, stay in place\n",
        "\n",
        "    # Reward structure\n",
        "    if MAZE[new_pos] == 2:  # Goal\n",
        "        reward = 10\n",
        "        done = True\n",
        "    else:\n",
        "        reward = -1  # Step cost\n",
        "        done = False\n",
        "\n",
        "    return new_pos, reward, done\n"
      ]
    },
    {
      "cell_type": "code",
      "execution_count": 8,
      "metadata": {
        "id": "8ZQEDnqDjlns"
      },
      "outputs": [],
      "source": [
        "# Initialize Q-table\n",
        "q_table = np.zeros((ROWS, COLS, len(ACTIONS)))\n",
        "\n",
        "# Hyperparameters\n",
        "learning_rate = 0.1\n",
        "discount_factor = 0.9\n",
        "epsilon = 1.0\n",
        "epsilon_decay = 0.99\n",
        "epsilon_min = 0.1\n",
        "num_episodes = 1000\n",
        "\n",
        "# Training loop\n",
        "for episode in range(num_episodes):\n",
        "    pos = reset()\n",
        "    done = False\n",
        "\n",
        "    while not done:\n",
        "        # Epsilon-greedy action selection\n",
        "        if np.random.rand() < epsilon:\n",
        "            action_idx = np.random.choice(len(ACTIONS))\n",
        "        else:\n",
        "            action_idx = np.argmax(q_table[pos])\n",
        "        action = ACTIONS[action_idx]\n",
        "\n",
        "        # Take a step\n",
        "        next_pos, reward, done = step(pos, action)\n",
        "\n",
        "        # Update Q-value\n",
        "        td_target = reward + discount_factor * np.max(q_table[next_pos])\n",
        "        td_error = td_target - q_table[pos + (action_idx,)]\n",
        "        q_table[pos + (action_idx,)] += learning_rate * td_error\n",
        "\n",
        "        pos = next_pos\n",
        "\n",
        "    # Decay epsilon\n",
        "    epsilon = max(epsilon_min, epsilon * epsilon_decay)\n"
      ]
    },
    {
      "cell_type": "code",
      "execution_count": 9,
      "metadata": {
        "colab": {
          "base_uri": "https://localhost:8080/",
          "height": 435
        },
        "id": "7kG_gBxgjoP6",
        "outputId": "dce39665-797f-473d-9e7d-55628245a966"
      },
      "outputs": [
        {
          "data": {
            "image/png": "[encoded data removed]",
            "text/plain": [
              "<Figure size 640x480 with 2 Axes>"
            ]
          },
          "metadata": {},
          "output_type": "display_data"
        }
      ],
      "source": [
        "# Visualize the shortest path based on the trained policy\n",
        "def render_policy():\n",
        "    pos = reset()\n",
        "    maze_copy = MAZE.copy()\n",
        "    maze_copy[pos] = 3  # Start position\n",
        "\n",
        "    while True:\n",
        "        action_idx = np.argmax(q_table[pos])\n",
        "        action = ACTIONS[action_idx]\n",
        "        next_pos, _, done = step(pos, action)\n",
        "        if next_pos == pos:  # No valid moves\n",
        "            break\n",
        "        maze_copy[next_pos] = 3  # Mark path\n",
        "        pos = next_pos\n",
        "        if done:\n",
        "            break\n",
        "\n",
        "    # Render the policy on the maze\n",
        "    plt.imshow(maze_copy, cmap=\"cool\", interpolation=\"nearest\")\n",
        "    plt.xticks(range(COLS))\n",
        "    plt.yticks(range(ROWS))\n",
        "    plt.grid(color=\"black\", linestyle=\"-\", linewidth=1)\n",
        "    plt.colorbar(label=\"Legend: 0=Empty, 1=Obstacle, 2=Goal, 3=Path\")\n",
        "    plt.show()\n",
        "\n",
        "# Display the learned policy\n",
        "render_policy()\n"
      ]
    },
    {
      "cell_type": "code",
      "execution_count": 10,
      "metadata": {
        "colab": {
          "base_uri": "https://localhost:8080/"
        },
        "id": "NNPYw3a9nBWw",
        "outputId": "7ce75a5f-0db3-4329-d096-77a0d929476c"
      },
      "outputs": [
        {
          "name": "stdout",
          "output_type": "stream",
          "text": [
            "Defaulting to user installation because normal site-packages is not writeable\n",
            "Requirement already satisfied: colorama in /Users/tam/Library/Python/3.9/lib/python/site-packages (0.4.6)\n",
            "\u001b[33mWARNING: You are using pip version 21.2.4; however, version 25.1.1 is available.\n",
            "You should consider upgrading via the '/Library/Developer/CommandLineTools/usr/bin/python3 -m pip install --upgrade pip' command.\u001b[0m\n",
            "Note: you may need to restart the kernel to use updated packages.\n"
          ]
        }
      ],
      "source": [
        "pip install colorama"
      ]
    },
    {
      "cell_type": "code",
      "execution_count": 11,
      "metadata": {
        "colab": {
          "base_uri": "https://localhost:8080/"
        },
        "id": "XMA_wug0mRj2",
        "outputId": "baab79b7-f1b4-4b45-91ac-470011e6b66a"
      },
      "outputs": [
        {
          "name": "stdout",
          "output_type": "stream",
          "text": [
            "Original Maze:\n",
            "\u001b[36m. \u001b[31m# \u001b[36m. \u001b[36m. \u001b[36m.\n",
            "\u001b[36m. \u001b[31m# \u001b[36m. \u001b[31m# \u001b[36m.\n",
            "\u001b[36m. \u001b[36m. \u001b[36m. \u001b[31m# \u001b[36m.\n",
            "\u001b[31m# \u001b[31m# \u001b[36m. \u001b[31m# \u001b[36m.\n",
            "\u001b[36m. \u001b[36m. \u001b[36m. \u001b[32mG \u001b[36m.\n",
            "\n",
            "Shortest Path Learned by the Agent:\n",
            "\u001b[35m* \u001b[31m# \u001b[36m. \u001b[36m. \u001b[36m.\n",
            "\u001b[35m* \u001b[31m# \u001b[36m. \u001b[31m# \u001b[36m.\n",
            "\u001b[35m* \u001b[35m* \u001b[35m* \u001b[31m# \u001b[36m.\n",
            "\u001b[31m# \u001b[31m# \u001b[35m* \u001b[31m# \u001b[36m.\n",
            "\u001b[36m. \u001b[36m. \u001b[35m* \u001b[35m* \u001b[36m.\n"
          ]
        }
      ],
      "source": [
        "from colorama import Fore, init\n",
        "# init(autoreset=True)\n",
        "\n",
        "def render_policy_text():\n",
        "    pos = reset()\n",
        "    maze_copy = MAZE.copy()\n",
        "    maze_copy[pos] = 3  # Start position\n",
        "\n",
        "    path = []  # Track path\n",
        "    while True:\n",
        "        path.append(pos)\n",
        "        action_idx = np.argmax(q_table[pos])\n",
        "        action = ACTIONS[action_idx]\n",
        "        next_pos, _, done = step(pos, action)\n",
        "\n",
        "        if next_pos == pos:  # Stuck, no valid moves\n",
        "            break\n",
        "        maze_copy[next_pos] = 3  # Mark path\n",
        "        pos = next_pos\n",
        "        if done:\n",
        "            path.append(pos)\n",
        "            break\n",
        "\n",
        "    # Helper function to add colors\n",
        "    def colorize(cell):\n",
        "        if cell == 0:\n",
        "            return f\"{Fore.CYAN}.\"  # Empty space\n",
        "        elif cell == 1:\n",
        "            return f\"{Fore.RED}#\"  # Obstacle\n",
        "        elif cell == 2:\n",
        "            return f\"{Fore.GREEN}G\"  # Goal\n",
        "        elif cell == 3:\n",
        "            return f\"{Fore.MAGENTA}*\"  # Path\n",
        "\n",
        "    # Print the original maze\n",
        "    print(\"Original Maze:\")\n",
        "    for row in MAZE:\n",
        "        print(\" \".join(colorize(cell) for cell in row))\n",
        "\n",
        "    print(\"\\nShortest Path Learned by the Agent:\")\n",
        "    for row in maze_copy:\n",
        "        print(\" \".join(colorize(cell) for cell in row))\n",
        "\n",
        "# Display the learned policy\n",
        "render_policy_text()\n"
      ]
    }
  ],
  "metadata": {
    "colab": {
      "provenance": []
    },
    "kernelspec": {
      "display_name": "Python 3",
      "name": "python3"
    },
    "language_info": {
      "codemirror_mode": {
        "name": "ipython",
        "version": 3
      },
      "file_extension": ".py",
      "mimetype": "text/x-python",
      "name": "python",
      "nbconvert_exporter": "python",
      "pygments_lexer": "ipython3",
      "version": "3.9.6"
    }
  },
  "nbformat": 4,
  "nbformat_minor": 0
}
